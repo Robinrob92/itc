{
 "cells": [
  {
   "cell_type": "code",
   "execution_count": 1,
   "metadata": {},
   "outputs": [],
   "source": [
    "import pandas as pd\n",
    "import matplotlib.pyplot as plt\n",
    "import seaborn as sns\n",
    "import numpy as np\n",
    "from scipy.stats import norm\n",
    "from sklearn.preprocessing import StandardScaler\n",
    "from scipy import stats\n",
    "import warnings\n",
    "warnings.filterwarnings('ignore')\n",
    "%matplotlib inline"
   ]
  },
  {
   "cell_type": "code",
   "execution_count": 2,
   "metadata": {},
   "outputs": [],
   "source": [
    "path='/Users/robin/Downloads/android_bids_us.csv'"
   ]
  },
  {
   "cell_type": "code",
   "execution_count": 3,
   "metadata": {},
   "outputs": [],
   "source": [
    "df=pd.read_csv(path)"
   ]
  },
  {
   "cell_type": "code",
   "execution_count": 4,
   "metadata": {},
   "outputs": [
    {
     "name": "stdout",
     "output_type": "stream",
     "text": [
      "<class 'pandas.core.frame.DataFrame'>\n",
      "RangeIndex: 3148828 entries, 0 to 3148827\n",
      "Data columns (total 12 columns):\n",
      "bidid            object\n",
      "utc_time         int64\n",
      "app_id           object\n",
      "user_state       object\n",
      "user_isp         object\n",
      "device_maker     object\n",
      "device_model     object\n",
      "device_osv       object\n",
      "device_height    int64\n",
      "device_width     int64\n",
      "marketplace      object\n",
      "click            int64\n",
      "dtypes: int64(4), object(8)\n",
      "memory usage: 288.3+ MB\n"
     ]
    }
   ],
   "source": [
    "df.info()"
   ]
  },
  {
   "cell_type": "code",
   "execution_count": 5,
   "metadata": {},
   "outputs": [
    {
     "data": {
      "text/plain": [
       "0"
      ]
     },
     "execution_count": 5,
     "metadata": {},
     "output_type": "execute_result"
    }
   ],
   "source": [
    "df.duplicated().sum() # displays duplicate records"
   ]
  },
  {
   "cell_type": "code",
   "execution_count": 6,
   "metadata": {},
   "outputs": [
    {
     "data": {
      "text/plain": [
       "Index(['bidid', 'utc_time', 'app_id', 'user_state', 'user_isp', 'device_maker',\n",
       "       'device_model', 'device_osv', 'device_height', 'device_width',\n",
       "       'marketplace', 'click'],\n",
       "      dtype='object')"
      ]
     },
     "execution_count": 6,
     "metadata": {},
     "output_type": "execute_result"
    }
   ],
   "source": [
    "df.columns # displays column names"
   ]
  },
  {
   "cell_type": "code",
   "execution_count": 7,
   "metadata": {},
   "outputs": [
    {
     "data": {
      "text/plain": [
       "bidid                 0\n",
       "utc_time              0\n",
       "app_id                0\n",
       "user_state            0\n",
       "user_isp             39\n",
       "device_maker     964004\n",
       "device_model     963858\n",
       "device_osv            0\n",
       "device_height         0\n",
       "device_width          0\n",
       "marketplace           0\n",
       "click                 0\n",
       "dtype: int64"
      ]
     },
     "execution_count": 7,
     "metadata": {},
     "output_type": "execute_result"
    }
   ],
   "source": [
    "df.isnull().sum() \n",
    "# Before to start we need with our missing value"
   ]
  },
  {
   "cell_type": "code",
   "execution_count": 8,
   "metadata": {},
   "outputs": [
    {
     "data": {
      "text/html": [
       "<div>\n",
       "<style scoped>\n",
       "    .dataframe tbody tr th:only-of-type {\n",
       "        vertical-align: middle;\n",
       "    }\n",
       "\n",
       "    .dataframe tbody tr th {\n",
       "        vertical-align: top;\n",
       "    }\n",
       "\n",
       "    .dataframe thead th {\n",
       "        text-align: right;\n",
       "    }\n",
       "</style>\n",
       "<table border=\"1\" class=\"dataframe\">\n",
       "  <thead>\n",
       "    <tr style=\"text-align: right;\">\n",
       "      <th></th>\n",
       "      <th>NaNs percentage</th>\n",
       "    </tr>\n",
       "  </thead>\n",
       "  <tbody>\n",
       "    <tr>\n",
       "      <td>device_maker</td>\n",
       "      <td>30.614692</td>\n",
       "    </tr>\n",
       "    <tr>\n",
       "      <td>device_model</td>\n",
       "      <td>30.610056</td>\n",
       "    </tr>\n",
       "    <tr>\n",
       "      <td>user_isp</td>\n",
       "      <td>0.001239</td>\n",
       "    </tr>\n",
       "    <tr>\n",
       "      <td>bidid</td>\n",
       "      <td>0.000000</td>\n",
       "    </tr>\n",
       "    <tr>\n",
       "      <td>utc_time</td>\n",
       "      <td>0.000000</td>\n",
       "    </tr>\n",
       "    <tr>\n",
       "      <td>app_id</td>\n",
       "      <td>0.000000</td>\n",
       "    </tr>\n",
       "    <tr>\n",
       "      <td>user_state</td>\n",
       "      <td>0.000000</td>\n",
       "    </tr>\n",
       "    <tr>\n",
       "      <td>device_osv</td>\n",
       "      <td>0.000000</td>\n",
       "    </tr>\n",
       "    <tr>\n",
       "      <td>device_height</td>\n",
       "      <td>0.000000</td>\n",
       "    </tr>\n",
       "    <tr>\n",
       "      <td>device_width</td>\n",
       "      <td>0.000000</td>\n",
       "    </tr>\n",
       "    <tr>\n",
       "      <td>marketplace</td>\n",
       "      <td>0.000000</td>\n",
       "    </tr>\n",
       "    <tr>\n",
       "      <td>click</td>\n",
       "      <td>0.000000</td>\n",
       "    </tr>\n",
       "  </tbody>\n",
       "</table>\n",
       "</div>"
      ],
      "text/plain": [
       "               NaNs percentage\n",
       "device_maker         30.614692\n",
       "device_model         30.610056\n",
       "user_isp              0.001239\n",
       "bidid                 0.000000\n",
       "utc_time              0.000000\n",
       "app_id                0.000000\n",
       "user_state            0.000000\n",
       "device_osv            0.000000\n",
       "device_height         0.000000\n",
       "device_width          0.000000\n",
       "marketplace           0.000000\n",
       "click                 0.000000"
      ]
     },
     "execution_count": 8,
     "metadata": {},
     "output_type": "execute_result"
    }
   ],
   "source": [
    "#if we drop our missing line of device maker and model we'll be abble to keep arrund 70% of our data\n",
    "#I consider it 70% as statisticly significative to built our prediction model\n",
    "percent_missing = df.isnull().sum() * 100 / len(df)\n",
    "missing_values = pd.DataFrame({'NaNs percentage': percent_missing})\n",
    "missing_values.sort_values(by ='NaNs percentage' , ascending=False)"
   ]
  },
  {
   "cell_type": "code",
   "execution_count": 9,
   "metadata": {},
   "outputs": [],
   "source": [
    "df.dropna(inplace=True)"
   ]
  },
  {
   "cell_type": "code",
   "execution_count": 10,
   "metadata": {},
   "outputs": [
    {
     "data": {
      "text/html": [
       "<div>\n",
       "<style scoped>\n",
       "    .dataframe tbody tr th:only-of-type {\n",
       "        vertical-align: middle;\n",
       "    }\n",
       "\n",
       "    .dataframe tbody tr th {\n",
       "        vertical-align: top;\n",
       "    }\n",
       "\n",
       "    .dataframe thead th {\n",
       "        text-align: right;\n",
       "    }\n",
       "</style>\n",
       "<table border=\"1\" class=\"dataframe\">\n",
       "  <thead>\n",
       "    <tr style=\"text-align: right;\">\n",
       "      <th></th>\n",
       "      <th>bidid</th>\n",
       "      <th>utc_time</th>\n",
       "      <th>app_id</th>\n",
       "      <th>user_state</th>\n",
       "      <th>user_isp</th>\n",
       "      <th>device_maker</th>\n",
       "      <th>device_model</th>\n",
       "      <th>device_osv</th>\n",
       "      <th>device_height</th>\n",
       "      <th>device_width</th>\n",
       "      <th>marketplace</th>\n",
       "      <th>click</th>\n",
       "    </tr>\n",
       "  </thead>\n",
       "  <tbody>\n",
       "    <tr>\n",
       "      <td>46</td>\n",
       "      <td>c11b24e7-8471-41f5-82af-24be5d1a3c1f</td>\n",
       "      <td>1537855513297</td>\n",
       "      <td>com.critical.strike.shoot.fire.fssc</td>\n",
       "      <td>CA</td>\n",
       "      <td>AT&amp;T Wireless</td>\n",
       "      <td>Samsung</td>\n",
       "      <td>SM-G920AZ</td>\n",
       "      <td>7.0</td>\n",
       "      <td>1080</td>\n",
       "      <td>1920</td>\n",
       "      <td>chartboost</td>\n",
       "      <td>0</td>\n",
       "    </tr>\n",
       "    <tr>\n",
       "      <td>47</td>\n",
       "      <td>ca89d32e-85d8-4cd8-a681-0a5902d0cf55</td>\n",
       "      <td>1537855549353</td>\n",
       "      <td>com.cardgame.solitaire</td>\n",
       "      <td>AL</td>\n",
       "      <td>AT&amp;T Wireless</td>\n",
       "      <td>Samsung</td>\n",
       "      <td>SM-G955U</td>\n",
       "      <td>7.0</td>\n",
       "      <td>1280</td>\n",
       "      <td>720</td>\n",
       "      <td>chartboost</td>\n",
       "      <td>0</td>\n",
       "    </tr>\n",
       "    <tr>\n",
       "      <td>48</td>\n",
       "      <td>5f6268a1-58d8-4a3d-b06b-4293484ee6c8</td>\n",
       "      <td>1537855629973</td>\n",
       "      <td>com.xiart.fb.towersx</td>\n",
       "      <td>CA</td>\n",
       "      <td>Google Fiber</td>\n",
       "      <td>Samsung</td>\n",
       "      <td>SM-G930V</td>\n",
       "      <td>8.0.0</td>\n",
       "      <td>1080</td>\n",
       "      <td>1920</td>\n",
       "      <td>chartboost</td>\n",
       "      <td>1</td>\n",
       "    </tr>\n",
       "    <tr>\n",
       "      <td>49</td>\n",
       "      <td>d89c308a-a29c-4d8c-a61b-4f2426877f51</td>\n",
       "      <td>1537855674264</td>\n",
       "      <td>com.thumbspire.weedfirm2</td>\n",
       "      <td>NC</td>\n",
       "      <td>T-Mobile USA</td>\n",
       "      <td>LG</td>\n",
       "      <td>MS210</td>\n",
       "      <td>7.0</td>\n",
       "      <td>1280</td>\n",
       "      <td>720</td>\n",
       "      <td>chartboost</td>\n",
       "      <td>0</td>\n",
       "    </tr>\n",
       "    <tr>\n",
       "      <td>50</td>\n",
       "      <td>55ad5fc9-467e-4bcf-84d1-9deaf70158b1</td>\n",
       "      <td>1537855686541</td>\n",
       "      <td>com.zentertain.classicvegasslots</td>\n",
       "      <td>GA</td>\n",
       "      <td>Sprint PCS</td>\n",
       "      <td>LG</td>\n",
       "      <td>LS777</td>\n",
       "      <td>7.0</td>\n",
       "      <td>720</td>\n",
       "      <td>1280</td>\n",
       "      <td>chartboost</td>\n",
       "      <td>0</td>\n",
       "    </tr>\n",
       "  </tbody>\n",
       "</table>\n",
       "</div>"
      ],
      "text/plain": [
       "                                   bidid       utc_time  \\\n",
       "46  c11b24e7-8471-41f5-82af-24be5d1a3c1f  1537855513297   \n",
       "47  ca89d32e-85d8-4cd8-a681-0a5902d0cf55  1537855549353   \n",
       "48  5f6268a1-58d8-4a3d-b06b-4293484ee6c8  1537855629973   \n",
       "49  d89c308a-a29c-4d8c-a61b-4f2426877f51  1537855674264   \n",
       "50  55ad5fc9-467e-4bcf-84d1-9deaf70158b1  1537855686541   \n",
       "\n",
       "                                 app_id user_state       user_isp  \\\n",
       "46  com.critical.strike.shoot.fire.fssc         CA  AT&T Wireless   \n",
       "47               com.cardgame.solitaire         AL  AT&T Wireless   \n",
       "48                 com.xiart.fb.towersx         CA   Google Fiber   \n",
       "49             com.thumbspire.weedfirm2         NC   T-Mobile USA   \n",
       "50     com.zentertain.classicvegasslots         GA     Sprint PCS   \n",
       "\n",
       "   device_maker device_model device_osv  device_height  device_width  \\\n",
       "46      Samsung    SM-G920AZ        7.0           1080          1920   \n",
       "47      Samsung     SM-G955U        7.0           1280           720   \n",
       "48      Samsung     SM-G930V      8.0.0           1080          1920   \n",
       "49           LG        MS210        7.0           1280           720   \n",
       "50           LG        LS777        7.0            720          1280   \n",
       "\n",
       "   marketplace  click  \n",
       "46  chartboost      0  \n",
       "47  chartboost      0  \n",
       "48  chartboost      1  \n",
       "49  chartboost      0  \n",
       "50  chartboost      0  "
      ]
     },
     "execution_count": 10,
     "metadata": {},
     "output_type": "execute_result"
    }
   ],
   "source": [
    "df.head()"
   ]
  },
  {
   "cell_type": "code",
   "execution_count": 11,
   "metadata": {},
   "outputs": [
    {
     "data": {
      "text/html": [
       "<div>\n",
       "<style scoped>\n",
       "    .dataframe tbody tr th:only-of-type {\n",
       "        vertical-align: middle;\n",
       "    }\n",
       "\n",
       "    .dataframe tbody tr th {\n",
       "        vertical-align: top;\n",
       "    }\n",
       "\n",
       "    .dataframe thead th {\n",
       "        text-align: right;\n",
       "    }\n",
       "</style>\n",
       "<table border=\"1\" class=\"dataframe\">\n",
       "  <thead>\n",
       "    <tr style=\"text-align: right;\">\n",
       "      <th></th>\n",
       "      <th>bidid</th>\n",
       "      <th>utc_time</th>\n",
       "      <th>app_id</th>\n",
       "      <th>user_state</th>\n",
       "      <th>user_isp</th>\n",
       "      <th>device_maker</th>\n",
       "      <th>device_model</th>\n",
       "      <th>device_osv</th>\n",
       "      <th>device_height</th>\n",
       "      <th>device_width</th>\n",
       "      <th>marketplace</th>\n",
       "      <th>click</th>\n",
       "      <th>day_of_week</th>\n",
       "      <th>month</th>\n",
       "      <th>hours</th>\n",
       "    </tr>\n",
       "  </thead>\n",
       "  <tbody>\n",
       "    <tr>\n",
       "      <td>46</td>\n",
       "      <td>c11b24e7-8471-41f5-82af-24be5d1a3c1f</td>\n",
       "      <td>1537855513297</td>\n",
       "      <td>com.critical.strike.shoot.fire.fssc</td>\n",
       "      <td>CA</td>\n",
       "      <td>AT&amp;T Wireless</td>\n",
       "      <td>Samsung</td>\n",
       "      <td>SM-G920AZ</td>\n",
       "      <td>7.0</td>\n",
       "      <td>1080</td>\n",
       "      <td>1920</td>\n",
       "      <td>chartboost</td>\n",
       "      <td>0</td>\n",
       "      <td>2</td>\n",
       "      <td>9</td>\n",
       "      <td>06</td>\n",
       "    </tr>\n",
       "    <tr>\n",
       "      <td>47</td>\n",
       "      <td>ca89d32e-85d8-4cd8-a681-0a5902d0cf55</td>\n",
       "      <td>1537855549353</td>\n",
       "      <td>com.cardgame.solitaire</td>\n",
       "      <td>AL</td>\n",
       "      <td>AT&amp;T Wireless</td>\n",
       "      <td>Samsung</td>\n",
       "      <td>SM-G955U</td>\n",
       "      <td>7.0</td>\n",
       "      <td>1280</td>\n",
       "      <td>720</td>\n",
       "      <td>chartboost</td>\n",
       "      <td>0</td>\n",
       "      <td>2</td>\n",
       "      <td>9</td>\n",
       "      <td>06</td>\n",
       "    </tr>\n",
       "    <tr>\n",
       "      <td>48</td>\n",
       "      <td>5f6268a1-58d8-4a3d-b06b-4293484ee6c8</td>\n",
       "      <td>1537855629973</td>\n",
       "      <td>com.xiart.fb.towersx</td>\n",
       "      <td>CA</td>\n",
       "      <td>Google Fiber</td>\n",
       "      <td>Samsung</td>\n",
       "      <td>SM-G930V</td>\n",
       "      <td>8.0.0</td>\n",
       "      <td>1080</td>\n",
       "      <td>1920</td>\n",
       "      <td>chartboost</td>\n",
       "      <td>1</td>\n",
       "      <td>2</td>\n",
       "      <td>9</td>\n",
       "      <td>06</td>\n",
       "    </tr>\n",
       "    <tr>\n",
       "      <td>49</td>\n",
       "      <td>d89c308a-a29c-4d8c-a61b-4f2426877f51</td>\n",
       "      <td>1537855674264</td>\n",
       "      <td>com.thumbspire.weedfirm2</td>\n",
       "      <td>NC</td>\n",
       "      <td>T-Mobile USA</td>\n",
       "      <td>LG</td>\n",
       "      <td>MS210</td>\n",
       "      <td>7.0</td>\n",
       "      <td>1280</td>\n",
       "      <td>720</td>\n",
       "      <td>chartboost</td>\n",
       "      <td>0</td>\n",
       "      <td>2</td>\n",
       "      <td>9</td>\n",
       "      <td>06</td>\n",
       "    </tr>\n",
       "    <tr>\n",
       "      <td>50</td>\n",
       "      <td>55ad5fc9-467e-4bcf-84d1-9deaf70158b1</td>\n",
       "      <td>1537855686541</td>\n",
       "      <td>com.zentertain.classicvegasslots</td>\n",
       "      <td>GA</td>\n",
       "      <td>Sprint PCS</td>\n",
       "      <td>LG</td>\n",
       "      <td>LS777</td>\n",
       "      <td>7.0</td>\n",
       "      <td>720</td>\n",
       "      <td>1280</td>\n",
       "      <td>chartboost</td>\n",
       "      <td>0</td>\n",
       "      <td>2</td>\n",
       "      <td>9</td>\n",
       "      <td>06</td>\n",
       "    </tr>\n",
       "  </tbody>\n",
       "</table>\n",
       "</div>"
      ],
      "text/plain": [
       "                                   bidid       utc_time  \\\n",
       "46  c11b24e7-8471-41f5-82af-24be5d1a3c1f  1537855513297   \n",
       "47  ca89d32e-85d8-4cd8-a681-0a5902d0cf55  1537855549353   \n",
       "48  5f6268a1-58d8-4a3d-b06b-4293484ee6c8  1537855629973   \n",
       "49  d89c308a-a29c-4d8c-a61b-4f2426877f51  1537855674264   \n",
       "50  55ad5fc9-467e-4bcf-84d1-9deaf70158b1  1537855686541   \n",
       "\n",
       "                                 app_id user_state       user_isp  \\\n",
       "46  com.critical.strike.shoot.fire.fssc         CA  AT&T Wireless   \n",
       "47               com.cardgame.solitaire         AL  AT&T Wireless   \n",
       "48                 com.xiart.fb.towersx         CA   Google Fiber   \n",
       "49             com.thumbspire.weedfirm2         NC   T-Mobile USA   \n",
       "50     com.zentertain.classicvegasslots         GA     Sprint PCS   \n",
       "\n",
       "   device_maker device_model device_osv  device_height  device_width  \\\n",
       "46      Samsung    SM-G920AZ        7.0           1080          1920   \n",
       "47      Samsung     SM-G955U        7.0           1280           720   \n",
       "48      Samsung     SM-G930V      8.0.0           1080          1920   \n",
       "49           LG        MS210        7.0           1280           720   \n",
       "50           LG        LS777        7.0            720          1280   \n",
       "\n",
       "   marketplace  click day_of_week month hours  \n",
       "46  chartboost      0           2     9    06  \n",
       "47  chartboost      0           2     9    06  \n",
       "48  chartboost      1           2     9    06  \n",
       "49  chartboost      0           2     9    06  \n",
       "50  chartboost      0           2     9    06  "
      ]
     },
     "execution_count": 11,
     "metadata": {},
     "output_type": "execute_result"
    }
   ],
   "source": [
    "#we create a feature day_of_week and month and hours\n",
    "df['day_of_week']=pd.to_datetime(df['utc_time'], unit='ms').dt.strftime('%w')\n",
    "df['month']=pd.to_datetime(df['utc_time'], unit='ms').dt.strftime('%-m')\n",
    "df['hours']=pd.to_datetime(df['utc_time'], unit='ms').dt.strftime('%H')\n",
    "df.head()"
   ]
  },
  {
   "cell_type": "code",
   "execution_count": 12,
   "metadata": {},
   "outputs": [
    {
     "data": {
      "text/plain": [
       "Index(['bidid', 'app_id', 'user_state', 'user_isp', 'device_maker',\n",
       "       'device_model', 'device_osv', 'marketplace', 'day_of_week', 'month',\n",
       "       'hours'],\n",
       "      dtype='object')"
      ]
     },
     "execution_count": 12,
     "metadata": {},
     "output_type": "execute_result"
    }
   ],
   "source": [
    "df.select_dtypes(include = ['object']).columns # Displays categorical variables which are detected by python "
   ]
  },
  {
   "cell_type": "code",
   "execution_count": 13,
   "metadata": {},
   "outputs": [],
   "source": [
    "# Assigning columns as numerical variables\n",
    "numeric_cols = ['utc_time', 'device_height', 'device_width']\n",
    "Categorical_cols = [ 'bidid', 'app_id', 'user_state', 'user_isp','device_maker','device_model','device_osv','marketplace', 'hours','day_of_week','month','click' ]"
   ]
  },
  {
   "cell_type": "code",
   "execution_count": 14,
   "metadata": {},
   "outputs": [
    {
     "data": {
      "text/html": [
       "<div>\n",
       "<style scoped>\n",
       "    .dataframe tbody tr th:only-of-type {\n",
       "        vertical-align: middle;\n",
       "    }\n",
       "\n",
       "    .dataframe tbody tr th {\n",
       "        vertical-align: top;\n",
       "    }\n",
       "\n",
       "    .dataframe thead th {\n",
       "        text-align: right;\n",
       "    }\n",
       "</style>\n",
       "<table border=\"1\" class=\"dataframe\">\n",
       "  <thead>\n",
       "    <tr style=\"text-align: right;\">\n",
       "      <th></th>\n",
       "      <th>utc_time</th>\n",
       "      <th>device_height</th>\n",
       "      <th>device_width</th>\n",
       "    </tr>\n",
       "  </thead>\n",
       "  <tbody>\n",
       "    <tr>\n",
       "      <td>count</td>\n",
       "      <td>2.184775e+06</td>\n",
       "      <td>2.184775e+06</td>\n",
       "      <td>2.184775e+06</td>\n",
       "    </tr>\n",
       "    <tr>\n",
       "      <td>mean</td>\n",
       "      <td>1.539452e+12</td>\n",
       "      <td>1.118599e+03</td>\n",
       "      <td>1.183029e+03</td>\n",
       "    </tr>\n",
       "    <tr>\n",
       "      <td>std</td>\n",
       "      <td>1.567003e+09</td>\n",
       "      <td>5.066286e+02</td>\n",
       "      <td>4.550477e+02</td>\n",
       "    </tr>\n",
       "    <tr>\n",
       "      <td>min</td>\n",
       "      <td>1.536746e+12</td>\n",
       "      <td>2.500000e+01</td>\n",
       "      <td>1.400000e+01</td>\n",
       "    </tr>\n",
       "    <tr>\n",
       "      <td>25%</td>\n",
       "      <td>1.538282e+12</td>\n",
       "      <td>7.200000e+02</td>\n",
       "      <td>7.680000e+02</td>\n",
       "    </tr>\n",
       "    <tr>\n",
       "      <td>50%</td>\n",
       "      <td>1.539188e+12</td>\n",
       "      <td>1.080000e+03</td>\n",
       "      <td>1.280000e+03</td>\n",
       "    </tr>\n",
       "    <tr>\n",
       "      <td>75%</td>\n",
       "      <td>1.540671e+12</td>\n",
       "      <td>1.280000e+03</td>\n",
       "      <td>1.280000e+03</td>\n",
       "    </tr>\n",
       "    <tr>\n",
       "      <td>max</td>\n",
       "      <td>1.542630e+12</td>\n",
       "      <td>3.120000e+03</td>\n",
       "      <td>3.120000e+03</td>\n",
       "    </tr>\n",
       "  </tbody>\n",
       "</table>\n",
       "</div>"
      ],
      "text/plain": [
       "           utc_time  device_height  device_width\n",
       "count  2.184775e+06   2.184775e+06  2.184775e+06\n",
       "mean   1.539452e+12   1.118599e+03  1.183029e+03\n",
       "std    1.567003e+09   5.066286e+02  4.550477e+02\n",
       "min    1.536746e+12   2.500000e+01  1.400000e+01\n",
       "25%    1.538282e+12   7.200000e+02  7.680000e+02\n",
       "50%    1.539188e+12   1.080000e+03  1.280000e+03\n",
       "75%    1.540671e+12   1.280000e+03  1.280000e+03\n",
       "max    1.542630e+12   3.120000e+03  3.120000e+03"
      ]
     },
     "execution_count": 14,
     "metadata": {},
     "output_type": "execute_result"
    }
   ],
   "source": [
    "df[numeric_cols].describe()"
   ]
  },
  {
   "cell_type": "code",
   "execution_count": 15,
   "metadata": {},
   "outputs": [
    {
     "data": {
      "text/html": [
       "<div>\n",
       "<style scoped>\n",
       "    .dataframe tbody tr th:only-of-type {\n",
       "        vertical-align: middle;\n",
       "    }\n",
       "\n",
       "    .dataframe tbody tr th {\n",
       "        vertical-align: top;\n",
       "    }\n",
       "\n",
       "    .dataframe thead th {\n",
       "        text-align: right;\n",
       "    }\n",
       "</style>\n",
       "<table border=\"1\" class=\"dataframe\">\n",
       "  <thead>\n",
       "    <tr style=\"text-align: right;\">\n",
       "      <th></th>\n",
       "      <th>bidid</th>\n",
       "      <th>app_id</th>\n",
       "      <th>user_state</th>\n",
       "      <th>user_isp</th>\n",
       "      <th>device_maker</th>\n",
       "      <th>device_model</th>\n",
       "      <th>device_osv</th>\n",
       "      <th>marketplace</th>\n",
       "      <th>hours</th>\n",
       "      <th>day_of_week</th>\n",
       "      <th>month</th>\n",
       "    </tr>\n",
       "  </thead>\n",
       "  <tbody>\n",
       "    <tr>\n",
       "      <td>count</td>\n",
       "      <td>2184775</td>\n",
       "      <td>2184775</td>\n",
       "      <td>2184775</td>\n",
       "      <td>2184775</td>\n",
       "      <td>2184775</td>\n",
       "      <td>2184775</td>\n",
       "      <td>2184775</td>\n",
       "      <td>2184775</td>\n",
       "      <td>2184775</td>\n",
       "      <td>2184775</td>\n",
       "      <td>2184775</td>\n",
       "    </tr>\n",
       "    <tr>\n",
       "      <td>unique</td>\n",
       "      <td>2028521</td>\n",
       "      <td>13375</td>\n",
       "      <td>51</td>\n",
       "      <td>2540</td>\n",
       "      <td>265</td>\n",
       "      <td>2342</td>\n",
       "      <td>16</td>\n",
       "      <td>1</td>\n",
       "      <td>24</td>\n",
       "      <td>7</td>\n",
       "      <td>3</td>\n",
       "    </tr>\n",
       "    <tr>\n",
       "      <td>top</td>\n",
       "      <td>8aabef26-6f1b-4d9b-b2e0-b64a11f9f62d</td>\n",
       "      <td>com.banananadco.blackjack</td>\n",
       "      <td>TX</td>\n",
       "      <td>T-Mobile USA</td>\n",
       "      <td>Samsung</td>\n",
       "      <td>LM-X210(G)</td>\n",
       "      <td>7.0</td>\n",
       "      <td>chartboost</td>\n",
       "      <td>23</td>\n",
       "      <td>6</td>\n",
       "      <td>10</td>\n",
       "    </tr>\n",
       "    <tr>\n",
       "      <td>freq</td>\n",
       "      <td>2</td>\n",
       "      <td>40111</td>\n",
       "      <td>297412</td>\n",
       "      <td>545087</td>\n",
       "      <td>863518</td>\n",
       "      <td>110590</td>\n",
       "      <td>766516</td>\n",
       "      <td>2184775</td>\n",
       "      <td>169777</td>\n",
       "      <td>408496</td>\n",
       "      <td>1145089</td>\n",
       "    </tr>\n",
       "  </tbody>\n",
       "</table>\n",
       "</div>"
      ],
      "text/plain": [
       "                                       bidid                     app_id  \\\n",
       "count                                2184775                    2184775   \n",
       "unique                               2028521                      13375   \n",
       "top     8aabef26-6f1b-4d9b-b2e0-b64a11f9f62d  com.banananadco.blackjack   \n",
       "freq                                       2                      40111   \n",
       "\n",
       "       user_state      user_isp device_maker device_model device_osv  \\\n",
       "count     2184775       2184775      2184775      2184775    2184775   \n",
       "unique         51          2540          265         2342         16   \n",
       "top            TX  T-Mobile USA      Samsung   LM-X210(G)        7.0   \n",
       "freq       297412        545087       863518       110590     766516   \n",
       "\n",
       "       marketplace    hours day_of_week    month  \n",
       "count      2184775  2184775     2184775  2184775  \n",
       "unique           1       24           7        3  \n",
       "top     chartboost       23           6       10  \n",
       "freq       2184775   169777      408496  1145089  "
      ]
     },
     "execution_count": 15,
     "metadata": {},
     "output_type": "execute_result"
    }
   ],
   "source": [
    "df[Categorical_cols].describe(include = ['O'])"
   ]
  },
  {
   "cell_type": "raw",
   "metadata": {},
   "source": [
    "We can see that bid Id as a low frequence and an high unique value it seems to have less predictive power\n",
    "Otherwise the results give us some information and the state, device_model, day_of_week, device_maker appear \n",
    "like good predictive features.\n"
   ]
  },
  {
   "cell_type": "code",
   "execution_count": 16,
   "metadata": {},
   "outputs": [
    {
     "name": "stdout",
     "output_type": "stream",
     "text": [
      "click            0      1\n",
      "user_state               \n",
      "TX          276786  20626\n",
      "CA          256478  20478\n",
      "FL          176282  13754\n",
      "IL          129108   9666\n",
      "NY          114541   9024\n",
      "GA           85978   6652\n",
      "MI           78851   6354\n",
      "NC           80995   6240\n",
      "OH           64129   5019\n",
      "PA           49374   3875\n",
      " \n",
      "click        0      1\n",
      "month                \n",
      "10     1061707  83382\n",
      "9       562065  41958\n",
      "11      404073  31590\n",
      "\n",
      "click       0      1\n",
      "hours               \n",
      "23     157439  12338\n",
      "22     142180  10842\n",
      "21     137639  10477\n",
      "02     147915  10421\n",
      "20     127762   9644\n",
      "19     122261   9410\n",
      "16     106937   8552\n",
      "15     104406   8548\n",
      "17     107769   8409\n",
      "04     112620   8380\n",
      "\n",
      "click             0      1\n",
      "day_of_week               \n",
      "6            378759  29737\n",
      "0            358019  27876\n",
      "4            319115  24053\n",
      "1            278697  21660\n",
      "3            264282  20418\n",
      "2            247187  19520\n",
      "5            181786  13666\n",
      " \n",
      "click                             0      1\n",
      "device_osv                                \n",
      "7.0                          707095  59421\n",
      "7.1.1                        401704  31306\n",
      "6.0.1                        341086  25094\n",
      "8.0.0                        345167  21084\n",
      "7.1.2                        144011  11845\n",
      "6.0                           36649   4041\n",
      "8.1.0                         36119   2640\n",
      "9                             15959   1493\n",
      "7.1                              29      4\n",
      "CONTIXO-LA703-20180915-v1.0       6      1\n",
      " \n",
      "click                   0      1\n",
      "device_maker                    \n",
      "LG                 600521  56724\n",
      "Samsung            812743  50775\n",
      "Motorola           205711  18915\n",
      "ZTE                176987   9613\n",
      "ALCATEL             51178   3871\n",
      "Google              22259   2270\n",
      "ALCATEL ONE TOUCH   15683   1743\n",
      "HTC                 25755   1740\n",
      "T-Mobile            19879   1627\n",
      "Huawei              15155   1436\n"
     ]
    }
   ],
   "source": [
    "print(pd.crosstab(df['user_state'], df['click']).sort_values(1,0, ascending = False).head(10))\n",
    "print(' ')\n",
    "print(pd.crosstab(df['month'], df['click']).sort_values(1,0, ascending = False).head(10))\n",
    "print('')\n",
    "print(pd.crosstab(df['hours'], df['click']).sort_values(1,0, ascending = False).head(10))\n",
    "print('')\n",
    "print(pd.crosstab(df['day_of_week'], df['click']).sort_values(1,0, ascending = False).head(10))\n",
    "print(' ')\n",
    "print(pd.crosstab(df['device_osv'], df['click']).sort_values(1,0, ascending = False).head(10))\n",
    "print(' ')\n",
    "print(pd.crosstab(df['device_maker'], df['click']).sort_values(1,0, ascending = False).head(10))"
   ]
  },
  {
   "cell_type": "code",
   "execution_count": 17,
   "metadata": {},
   "outputs": [
    {
     "name": "stdout",
     "output_type": "stream",
     "text": [
      "col_0        count\n",
      "user_state        \n",
      "TX          297412\n",
      "CA          276956\n",
      "FL          190036\n",
      "IL          138774\n",
      "NY          123565\n",
      "GA           92630\n",
      "NC           87235\n",
      "MI           85205\n",
      "OH           69148\n",
      "PA           53249\n",
      " \n",
      "col_0         count\n",
      "day_of_week        \n",
      "6            408496\n",
      "0            385895\n",
      "4            343168\n",
      "1            300357\n",
      "3            284700\n",
      "2            266707\n",
      "5            195452\n",
      " \n",
      "col_0        count\n",
      "device_osv        \n",
      "7.0         766516\n",
      "7.1.1       433010\n",
      "8.0.0       366251\n",
      "6.0.1       366180\n",
      "7.1.2       155856\n",
      "6.0          40690\n",
      "8.1.0        38759\n",
      "9            17452\n",
      "7.1             33\n",
      "8.0             10\n",
      " \n",
      "click                   0      1\n",
      "device_maker                    \n",
      "LG                 600521  56724\n",
      "Samsung            812743  50775\n",
      "Motorola           205711  18915\n",
      "ZTE                176987   9613\n",
      "ALCATEL             51178   3871\n",
      "Google              22259   2270\n",
      "ALCATEL ONE TOUCH   15683   1743\n",
      "HTC                 25755   1740\n",
      "T-Mobile            19879   1627\n",
      "Huawei              15155   1436\n"
     ]
    }
   ],
   "source": [
    "print(pd.crosstab(index=df['user_state'],columns='count').sort_values(['count'], ascending=False).head(10))\n",
    "print(' ')\n",
    "print(pd.crosstab(index=df['day_of_week'],columns='count').sort_values(['count'], ascending=False).head(10))\n",
    "print(' ')\n",
    "print(pd.crosstab(index=df['device_osv'],columns='count').sort_values(['count'], ascending=False).head(10))\n",
    "print(' ')\n",
    "print(pd.crosstab(df['device_maker'], df['click']).sort_values(1,0, ascending = False).head(10))\n"
   ]
  },
  {
   "cell_type": "code",
   "execution_count": 18,
   "metadata": {},
   "outputs": [
    {
     "data": {
      "text/html": [
       "<div>\n",
       "<style scoped>\n",
       "    .dataframe tbody tr th:only-of-type {\n",
       "        vertical-align: middle;\n",
       "    }\n",
       "\n",
       "    .dataframe tbody tr th {\n",
       "        vertical-align: top;\n",
       "    }\n",
       "\n",
       "    .dataframe thead th {\n",
       "        text-align: right;\n",
       "    }\n",
       "</style>\n",
       "<table border=\"1\" class=\"dataframe\">\n",
       "  <thead>\n",
       "    <tr style=\"text-align: right;\">\n",
       "      <th></th>\n",
       "      <th>bidid</th>\n",
       "      <th>utc_time</th>\n",
       "      <th>app_id</th>\n",
       "      <th>user_state</th>\n",
       "      <th>user_isp</th>\n",
       "      <th>device_maker</th>\n",
       "      <th>device_model</th>\n",
       "      <th>device_osv</th>\n",
       "      <th>device_height</th>\n",
       "      <th>device_width</th>\n",
       "      <th>marketplace</th>\n",
       "      <th>click</th>\n",
       "      <th>day_of_week</th>\n",
       "      <th>month</th>\n",
       "      <th>hours</th>\n",
       "    </tr>\n",
       "  </thead>\n",
       "  <tbody>\n",
       "    <tr>\n",
       "      <td>46</td>\n",
       "      <td>c11b24e7-8471-41f5-82af-24be5d1a3c1f</td>\n",
       "      <td>1537855513297</td>\n",
       "      <td>com.critical.strike.shoot.fire.fssc</td>\n",
       "      <td>CA</td>\n",
       "      <td>AT&amp;T Wireless</td>\n",
       "      <td>Samsung</td>\n",
       "      <td>SM-G920AZ</td>\n",
       "      <td>7.0</td>\n",
       "      <td>1080</td>\n",
       "      <td>1920</td>\n",
       "      <td>chartboost</td>\n",
       "      <td>0</td>\n",
       "      <td>2</td>\n",
       "      <td>9</td>\n",
       "      <td>06</td>\n",
       "    </tr>\n",
       "    <tr>\n",
       "      <td>47</td>\n",
       "      <td>ca89d32e-85d8-4cd8-a681-0a5902d0cf55</td>\n",
       "      <td>1537855549353</td>\n",
       "      <td>com.cardgame.solitaire</td>\n",
       "      <td>AL</td>\n",
       "      <td>AT&amp;T Wireless</td>\n",
       "      <td>Samsung</td>\n",
       "      <td>SM-G955U</td>\n",
       "      <td>7.0</td>\n",
       "      <td>1280</td>\n",
       "      <td>720</td>\n",
       "      <td>chartboost</td>\n",
       "      <td>0</td>\n",
       "      <td>2</td>\n",
       "      <td>9</td>\n",
       "      <td>06</td>\n",
       "    </tr>\n",
       "    <tr>\n",
       "      <td>48</td>\n",
       "      <td>5f6268a1-58d8-4a3d-b06b-4293484ee6c8</td>\n",
       "      <td>1537855629973</td>\n",
       "      <td>com.xiart.fb.towersx</td>\n",
       "      <td>CA</td>\n",
       "      <td>Google Fiber</td>\n",
       "      <td>Samsung</td>\n",
       "      <td>SM-G930V</td>\n",
       "      <td>8.0.0</td>\n",
       "      <td>1080</td>\n",
       "      <td>1920</td>\n",
       "      <td>chartboost</td>\n",
       "      <td>1</td>\n",
       "      <td>2</td>\n",
       "      <td>9</td>\n",
       "      <td>06</td>\n",
       "    </tr>\n",
       "    <tr>\n",
       "      <td>49</td>\n",
       "      <td>d89c308a-a29c-4d8c-a61b-4f2426877f51</td>\n",
       "      <td>1537855674264</td>\n",
       "      <td>com.thumbspire.weedfirm2</td>\n",
       "      <td>NC</td>\n",
       "      <td>T-Mobile USA</td>\n",
       "      <td>LG</td>\n",
       "      <td>MS210</td>\n",
       "      <td>7.0</td>\n",
       "      <td>1280</td>\n",
       "      <td>720</td>\n",
       "      <td>chartboost</td>\n",
       "      <td>0</td>\n",
       "      <td>2</td>\n",
       "      <td>9</td>\n",
       "      <td>06</td>\n",
       "    </tr>\n",
       "    <tr>\n",
       "      <td>50</td>\n",
       "      <td>55ad5fc9-467e-4bcf-84d1-9deaf70158b1</td>\n",
       "      <td>1537855686541</td>\n",
       "      <td>com.zentertain.classicvegasslots</td>\n",
       "      <td>GA</td>\n",
       "      <td>Sprint PCS</td>\n",
       "      <td>LG</td>\n",
       "      <td>LS777</td>\n",
       "      <td>7.0</td>\n",
       "      <td>720</td>\n",
       "      <td>1280</td>\n",
       "      <td>chartboost</td>\n",
       "      <td>0</td>\n",
       "      <td>2</td>\n",
       "      <td>9</td>\n",
       "      <td>06</td>\n",
       "    </tr>\n",
       "  </tbody>\n",
       "</table>\n",
       "</div>"
      ],
      "text/plain": [
       "                                   bidid       utc_time  \\\n",
       "46  c11b24e7-8471-41f5-82af-24be5d1a3c1f  1537855513297   \n",
       "47  ca89d32e-85d8-4cd8-a681-0a5902d0cf55  1537855549353   \n",
       "48  5f6268a1-58d8-4a3d-b06b-4293484ee6c8  1537855629973   \n",
       "49  d89c308a-a29c-4d8c-a61b-4f2426877f51  1537855674264   \n",
       "50  55ad5fc9-467e-4bcf-84d1-9deaf70158b1  1537855686541   \n",
       "\n",
       "                                 app_id user_state       user_isp  \\\n",
       "46  com.critical.strike.shoot.fire.fssc         CA  AT&T Wireless   \n",
       "47               com.cardgame.solitaire         AL  AT&T Wireless   \n",
       "48                 com.xiart.fb.towersx         CA   Google Fiber   \n",
       "49             com.thumbspire.weedfirm2         NC   T-Mobile USA   \n",
       "50     com.zentertain.classicvegasslots         GA     Sprint PCS   \n",
       "\n",
       "   device_maker device_model device_osv  device_height  device_width  \\\n",
       "46      Samsung    SM-G920AZ        7.0           1080          1920   \n",
       "47      Samsung     SM-G955U        7.0           1280           720   \n",
       "48      Samsung     SM-G930V      8.0.0           1080          1920   \n",
       "49           LG        MS210        7.0           1280           720   \n",
       "50           LG        LS777        7.0            720          1280   \n",
       "\n",
       "   marketplace  click day_of_week month hours  \n",
       "46  chartboost      0           2     9    06  \n",
       "47  chartboost      0           2     9    06  \n",
       "48  chartboost      1           2     9    06  \n",
       "49  chartboost      0           2     9    06  \n",
       "50  chartboost      0           2     9    06  "
      ]
     },
     "execution_count": 18,
     "metadata": {},
     "output_type": "execute_result"
    }
   ],
   "source": [
    "df.head()"
   ]
  },
  {
   "cell_type": "code",
   "execution_count": 19,
   "metadata": {},
   "outputs": [
    {
     "name": "stdout",
     "output_type": "stream",
     "text": [
      "<class 'pandas.core.frame.DataFrame'>\n",
      "Int64Index: 2184775 entries, 46 to 3148827\n",
      "Data columns (total 15 columns):\n",
      "bidid            object\n",
      "utc_time         int64\n",
      "app_id           object\n",
      "user_state       object\n",
      "user_isp         object\n",
      "device_maker     object\n",
      "device_model     object\n",
      "device_osv       object\n",
      "device_height    int64\n",
      "device_width     int64\n",
      "marketplace      object\n",
      "click            int64\n",
      "day_of_week      object\n",
      "month            object\n",
      "hours            object\n",
      "dtypes: int64(4), object(11)\n",
      "memory usage: 266.7+ MB\n"
     ]
    }
   ],
   "source": [
    "df.info()"
   ]
  },
  {
   "cell_type": "code",
   "execution_count": 20,
   "metadata": {},
   "outputs": [
    {
     "data": {
      "image/png": "[encoded data removed]",
      "text/plain": [
       "<Figure size 1008x432 with 2 Axes>"
      ]
     },
     "metadata": {
      "needs_background": "light"
     },
     "output_type": "display_data"
    }
   ],
   "source": [
    "# Visualizing target variable Clicked on Ad\n",
    "plt.figure(figsize = (14, 6)) \n",
    "plt.subplot(1,2,1)            \n",
    "sns.countplot(x = 'click', data = df)\n",
    "plt.subplot(1,2,2)\n",
    "sns.distplot(df[\"click\"], bins = 20)\n",
    "plt.show()"
   ]
  },
  {
   "cell_type": "code",
   "execution_count": 21,
   "metadata": {},
   "outputs": [
    {
     "data": {
      "text/plain": [
       "<matplotlib.axes._subplots.AxesSubplot at 0x1a1cbcab90>"
      ]
     },
     "execution_count": 21,
     "metadata": {},
     "output_type": "execute_result"
    },
    {
     "data": {
      "image/png": "[encoded data removed]",
      "text/plain": [
       "<Figure size 864x720 with 2 Axes>"
      ]
     },
     "metadata": {
      "needs_background": "light"
     },
     "output_type": "display_data"
    }
   ],
   "source": [
    "fig = plt.figure(figsize = (12,10))\n",
    "sns.heatmap(df.corr(), cmap='Blues', annot = True) # Degree of relationship i.e correlation using heatmap"
   ]
  },
  {
   "cell_type": "code",
   "execution_count": 22,
   "metadata": {},
   "outputs": [
    {
     "data": {
      "image/png": "[encoded data removed]",
      "text/plain": [
       "<Figure size 1008x360 with 2 Axes>"
      ]
     },
     "metadata": {
      "needs_background": "light"
     },
     "output_type": "display_data"
    }
   ],
   "source": [
    "f,ax=plt.subplots(1,2,figsize=(14,5))\n",
    "df['day_of_week'][df['click']==1].value_counts().sort_index().plot(ax=ax[0])\n",
    "ax[0].set_title('day Vs Clicks')\n",
    "ax[0].set_ylabel('Count of Clicks')\n",
    "pd.crosstab(df[\"click\"], df[\"day_of_week\"]).T.plot(kind = 'bar',ax=ax[1])\n",
    "plt.tight_layout()\n",
    "plt.show()"
   ]
  },
  {
   "cell_type": "code",
   "execution_count": 23,
   "metadata": {},
   "outputs": [
    {
     "data": {
      "image/png": "[encoded data removed]",
      "text/plain": [
       "<Figure size 1080x576 with 2 Axes>"
      ]
     },
     "metadata": {
      "needs_background": "light"
     },
     "output_type": "display_data"
    }
   ],
   "source": [
    "f,ax=plt.subplots(1,2,figsize=(15,8))\n",
    "df['hours'][df['click']==1].value_counts().sort_index().plot(ax=ax[0])\n",
    "ax[0].set_title('hours Vs Clicks')\n",
    "ax[0].set_ylabel('Count of Clicks')\n",
    "pd.crosstab(df[\"click\"], df[\"hours\"]).T.plot(kind = 'bar',ax=ax[1])\n",
    "plt.tight_layout()\n",
    "plt.show()"
   ]
  },
  {
   "cell_type": "code",
   "execution_count": 24,
   "metadata": {},
   "outputs": [],
   "source": [
    "#we keep the 'useful' columns \n",
    "#df.drop(['bidid', 'utc_time', 'marketplace','device_osv'], axis=1, inplace=True)"
   ]
  },
  {
   "cell_type": "code",
   "execution_count": 25,
   "metadata": {},
   "outputs": [
    {
     "data": {
      "image/png": "[encoded data removed]",
      "text/plain": [
       "<Figure size 1008x360 with 2 Axes>"
      ]
     },
     "metadata": {
      "needs_background": "light"
     },
     "output_type": "display_data"
    }
   ],
   "source": [
    "f,ax=plt.subplots(1,2,figsize=(14,5))\n",
    "pd.crosstab(df[\"click\"], df[\"hours\"]).T.plot(style = [], ax = ax[0])\n",
    "pd.pivot_table(df, index = ['day_of_week'], values = ['click'],aggfunc= np.sum).plot(kind = 'bar', ax=ax[1]) # 0 - Monday\n",
    "plt.tight_layout()\n",
    "plt.show()"
   ]
  },
  {
   "cell_type": "code",
   "execution_count": 26,
   "metadata": {},
   "outputs": [
    {
     "data": {
      "text/html": [
       "<div>\n",
       "<style scoped>\n",
       "    .dataframe tbody tr th:only-of-type {\n",
       "        vertical-align: middle;\n",
       "    }\n",
       "\n",
       "    .dataframe tbody tr th {\n",
       "        vertical-align: top;\n",
       "    }\n",
       "\n",
       "    .dataframe thead th {\n",
       "        text-align: right;\n",
       "    }\n",
       "</style>\n",
       "<table border=\"1\" class=\"dataframe\">\n",
       "  <thead>\n",
       "    <tr style=\"text-align: right;\">\n",
       "      <th></th>\n",
       "      <th>click</th>\n",
       "      <th>device_height</th>\n",
       "      <th>device_width</th>\n",
       "    </tr>\n",
       "    <tr>\n",
       "      <th>click</th>\n",
       "      <th></th>\n",
       "      <th></th>\n",
       "      <th></th>\n",
       "    </tr>\n",
       "  </thead>\n",
       "  <tbody>\n",
       "    <tr>\n",
       "      <td>0</td>\n",
       "      <td>0.0</td>\n",
       "      <td>1112.889173</td>\n",
       "      <td>1190.827225</td>\n",
       "    </tr>\n",
       "    <tr>\n",
       "      <td>1</td>\n",
       "      <td>1.0</td>\n",
       "      <td>1192.381731</td>\n",
       "      <td>1082.258899</td>\n",
       "    </tr>\n",
       "  </tbody>\n",
       "</table>\n",
       "</div>"
      ],
      "text/plain": [
       "       click  device_height  device_width\n",
       "click                                    \n",
       "0        0.0    1112.889173   1190.827225\n",
       "1        1.0    1192.381731   1082.258899"
      ]
     },
     "execution_count": 26,
     "metadata": {},
     "output_type": "execute_result"
    }
   ],
   "source": [
    "df.groupby('click')['click', 'device_height', 'device_width'].mean()\n"
   ]
  },
  {
   "cell_type": "code",
   "execution_count": 27,
   "metadata": {},
   "outputs": [
    {
     "data": {
      "text/plain": [
       "<matplotlib.axes._subplots.AxesSubplot at 0x1a1c525ed0>"
      ]
     },
     "execution_count": 27,
     "metadata": {},
     "output_type": "execute_result"
    },
    {
     "data": {
      "image/png": "[encoded data removed]",
      "text/plain": [
       "<Figure size 432x288 with 1 Axes>"
      ]
     },
     "metadata": {
      "needs_background": "light"
     },
     "output_type": "display_data"
    }
   ],
   "source": [
    "sns.distplot(df['device_height'])"
   ]
  },
  {
   "cell_type": "code",
   "execution_count": 28,
   "metadata": {},
   "outputs": [
    {
     "data": {
      "text/plain": [
       "<matplotlib.axes._subplots.AxesSubplot at 0x1a1d105910>"
      ]
     },
     "execution_count": 28,
     "metadata": {},
     "output_type": "execute_result"
    },
    {
     "data": {
      "image/png": "[encoded data removed]",
      "text/plain": [
       "<Figure size 432x288 with 1 Axes>"
      ]
     },
     "metadata": {
      "needs_background": "light"
     },
     "output_type": "display_data"
    }
   ],
   "source": [
    "sns.distplot(df['device_width'])"
   ]
  },
  {
   "cell_type": "code",
   "execution_count": null,
   "metadata": {},
   "outputs": [],
   "source": []
  },
  {
   "cell_type": "code",
   "execution_count": 29,
   "metadata": {},
   "outputs": [],
   "source": [
    "labels_height =[1,2,3,4]\n",
    "df['height_binning']=pd.qcut(df['device_height'], q=4, labels=labels_height)"
   ]
  },
  {
   "cell_type": "code",
   "execution_count": 30,
   "metadata": {},
   "outputs": [],
   "source": [
    "label_width =[1,2,3,4]\n",
    "df['width_binning']=pd.qcut(df['device_width'], q=5,duplicates='drop',labels=label_width)"
   ]
  },
  {
   "cell_type": "code",
   "execution_count": 31,
   "metadata": {},
   "outputs": [
    {
     "data": {
      "image/png": "[encoded data removed]",
      "text/plain": [
       "<Figure size 1008x360 with 2 Axes>"
      ]
     },
     "metadata": {
      "needs_background": "light"
     },
     "output_type": "display_data"
    }
   ],
   "source": [
    "f,ax=plt.subplots(1,2,figsize=(14,5))\n",
    "pd.crosstab(df[\"click\"], df[\"height_binning\"]).T.plot(style = [], ax = ax[0])\n",
    "pd.pivot_table(df, index = ['height_binning'], values = ['click'],aggfunc= np.sum).plot(kind = 'bar', ax=ax[1]) # 0 - Monday\n",
    "plt.tight_layout()\n",
    "plt.show()"
   ]
  },
  {
   "cell_type": "code",
   "execution_count": 32,
   "metadata": {},
   "outputs": [
    {
     "data": {
      "image/png": "[encoded data removed]",
      "text/plain": [
       "<Figure size 1008x360 with 2 Axes>"
      ]
     },
     "metadata": {
      "needs_background": "light"
     },
     "output_type": "display_data"
    }
   ],
   "source": [
    "f,ax=plt.subplots(1,2,figsize=(14,5))\n",
    "pd.crosstab(df[\"click\"], df['width_binning']).T.plot(style = [], ax = ax[0])\n",
    "pd.pivot_table(df, index = ['width_binning'], values = ['click'],aggfunc= np.sum).plot(kind = 'bar', ax=ax[1]) # 0 - Monday\n",
    "plt.tight_layout()\n",
    "plt.show()"
   ]
  },
  {
   "cell_type": "raw",
   "metadata": {},
   "source": [
    "We can see a weak correlation between size and click to imporve our model we need to have a look at the device_osv"
   ]
  },
  {
   "cell_type": "code",
   "execution_count": 33,
   "metadata": {},
   "outputs": [
    {
     "data": {
      "text/plain": [
       "7.0                            766516\n",
       "7.1.1                          433010\n",
       "8.0.0                          366251\n",
       "6.0.1                          366180\n",
       "7.1.2                          155856\n",
       "6.0                             40690\n",
       "8.1.0                           38759\n",
       "9                               17452\n",
       "7.1                                33\n",
       "8.0                                10\n",
       "CONTIXO-LA703-20180915-v1.0         7\n",
       "M                                   5\n",
       "5.0 by mrkindaiji                   2\n",
       "unknown                             2\n",
       "8.0.1                               1\n",
       "7.0.1                               1\n",
       "Name: device_osv, dtype: int64"
      ]
     },
     "execution_count": 33,
     "metadata": {},
     "output_type": "execute_result"
    }
   ],
   "source": [
    "df['device_osv'].value_counts()"
   ]
  },
  {
   "cell_type": "code",
   "execution_count": 34,
   "metadata": {},
   "outputs": [
    {
     "name": "stdout",
     "output_type": "stream",
     "text": [
      "click                             0      1\n",
      "device_osv                                \n",
      "7.0                          707095  59421\n",
      "7.1.1                        401704  31306\n",
      "6.0.1                        341086  25094\n",
      "8.0.0                        345167  21084\n",
      "7.1.2                        144011  11845\n",
      "6.0                           36649   4041\n",
      "8.1.0                         36119   2640\n",
      "9                             15959   1493\n",
      "7.1                              29      4\n",
      "CONTIXO-LA703-20180915-v1.0       6      1\n"
     ]
    }
   ],
   "source": [
    "print(pd.crosstab(df['device_osv'], df['click']).sort_values(1,0, ascending = False).head(10))"
   ]
  },
  {
   "cell_type": "raw",
   "metadata": {},
   "source": [
    "We see that the device_osv  has significant impact of the target, we need to create a dummmie variable to use in classification model."
   ]
  },
  {
   "cell_type": "code",
   "execution_count": 35,
   "metadata": {},
   "outputs": [],
   "source": [
    "#we'll use only only some columns to build our model\n",
    "df2=df[['device_osv','day_of_week','month','hours','height_binning','width_binning','click']]"
   ]
  },
  {
   "cell_type": "code",
   "execution_count": 36,
   "metadata": {},
   "outputs": [],
   "source": [
    "from sklearn.neighbors import KNeighborsClassifier\n",
    "from sklearn.model_selection import train_test_split\n",
    "from sklearn.model_selection import cross_val_score\n",
    "from sklearn.model_selection import GridSearchCV"
   ]
  },
  {
   "cell_type": "code",
   "execution_count": 37,
   "metadata": {},
   "outputs": [],
   "source": [
    "new_df = df.copy()"
   ]
  },
  {
   "cell_type": "code",
   "execution_count": 38,
   "metadata": {},
   "outputs": [],
   "source": [
    "#Dummy encoding on Month column\n",
    "new_df = pd.concat([new_df, pd.get_dummies(new_df['month'], prefix='month')], axis=1) "
   ]
  },
  {
   "cell_type": "code",
   "execution_count": 39,
   "metadata": {},
   "outputs": [],
   "source": [
    "# Dummy encoding on weekday column\n",
    "new_df = pd.concat([new_df, pd.get_dummies(new_df['day_of_week'], prefix='day_of_week')], axis=1)"
   ]
  },
  {
   "cell_type": "code",
   "execution_count": 40,
   "metadata": {},
   "outputs": [],
   "source": [
    "new_df[\"hours\"] = pd.to_numeric(new_df[\"hours\"])"
   ]
  },
  {
   "cell_type": "code",
   "execution_count": 41,
   "metadata": {},
   "outputs": [
    {
     "name": "stdout",
     "output_type": "stream",
     "text": [
      "<class 'pandas.core.frame.DataFrame'>\n",
      "Int64Index: 2184775 entries, 46 to 3148827\n",
      "Data columns (total 27 columns):\n",
      "bidid             object\n",
      "utc_time          int64\n",
      "app_id            object\n",
      "user_state        object\n",
      "user_isp          object\n",
      "device_maker      object\n",
      "device_model      object\n",
      "device_osv        object\n",
      "device_height     int64\n",
      "device_width      int64\n",
      "marketplace       object\n",
      "click             int64\n",
      "day_of_week       object\n",
      "month             object\n",
      "hours             int64\n",
      "height_binning    category\n",
      "width_binning     category\n",
      "month_10          uint8\n",
      "month_11          uint8\n",
      "month_9           uint8\n",
      "day_of_week_0     uint8\n",
      "day_of_week_1     uint8\n",
      "day_of_week_2     uint8\n",
      "day_of_week_3     uint8\n",
      "day_of_week_4     uint8\n",
      "day_of_week_5     uint8\n",
      "day_of_week_6     uint8\n",
      "dtypes: category(2), int64(5), object(10), uint8(10)\n",
      "memory usage: 291.7+ MB\n"
     ]
    }
   ],
   "source": [
    "new_df.info()"
   ]
  },
  {
   "cell_type": "code",
   "execution_count": 42,
   "metadata": {},
   "outputs": [],
   "source": [
    "#new_df['Hour_bins'] = pd.cut(new_df['hours'], bins = [0, 5, 11, 17, 23], \n",
    "#                        labels = ['Hour_0-5', 'Hour_6-11', 'Hour_12-17', 'Hour_18-23'], include_lowest= True)"
   ]
  },
  {
   "cell_type": "code",
   "execution_count": 43,
   "metadata": {},
   "outputs": [],
   "source": [
    "# Creating buckets for hour columns based on EDA part\n",
    "#new_df['Hour_bins'] = pd.cut(new_df['hours'], bins = [0, 5, 11, 17, 23], \n",
    "#                        labels = ['Hour_0-5', 'Hour_6-11', 'Hour_12-17', 'Hour_18-23'], include_lowest= True)"
   ]
  },
  {
   "cell_type": "code",
   "execution_count": 44,
   "metadata": {},
   "outputs": [],
   "source": [
    "# Dummy encoding on Hour_bins column\n",
    "#new_df = pd.concat([new_df, pd.get_dummies(new_df['Hour_bins'], prefix='Hour')], axis=1)"
   ]
  },
  {
   "cell_type": "code",
   "execution_count": 45,
   "metadata": {},
   "outputs": [],
   "source": [
    "# Dummy encoding on Column for state\n",
    "new_df = pd.concat([new_df, pd.get_dummies(new_df['user_state'], prefix='user_state')], axis=1)"
   ]
  },
  {
   "cell_type": "code",
   "execution_count": 46,
   "metadata": {},
   "outputs": [],
   "source": [
    "# Dummy encoding on Column for device_osv\n",
    "new_df = pd.concat([new_df, pd.get_dummies(new_df['device_osv'], prefix='devise_osv')], axis=1)"
   ]
  },
  {
   "cell_type": "code",
   "execution_count": 47,
   "metadata": {},
   "outputs": [],
   "source": [
    "# Dummy encoding on Column for heigh_binning\n",
    "new_df = pd.concat([new_df, pd.get_dummies(new_df['height_binning'], prefix='height_binning')], axis=1)"
   ]
  },
  {
   "cell_type": "code",
   "execution_count": 48,
   "metadata": {},
   "outputs": [],
   "source": [
    "# Dummy encoding on Column for width_binning\n",
    "new_df = pd.concat([new_df, pd.get_dummies(new_df['width_binning'], prefix='width_binning')], axis=1)"
   ]
  },
  {
   "cell_type": "code",
   "execution_count": 49,
   "metadata": {},
   "outputs": [],
   "source": [
    "# Dummy encoding on Column for device_maker\n",
    "new_df = pd.concat([new_df, pd.get_dummies(new_df['device_maker'], prefix='device_maker')], axis=1)"
   ]
  },
  {
   "cell_type": "code",
   "execution_count": 50,
   "metadata": {},
   "outputs": [],
   "source": [
    "new_df.drop(['hours', 'day_of_week', 'month', 'device_maker', 'device_model', 'user_isp','app_id', \n",
    "             'device_height', 'device_height', 'utc_time', 'bidid','user_state','device_osv','marketplace'], axis = 1, inplace = True)"
   ]
  },
  {
   "cell_type": "code",
   "execution_count": 51,
   "metadata": {},
   "outputs": [
    {
     "name": "stdout",
     "output_type": "stream",
     "text": [
      "<class 'pandas.core.frame.DataFrame'>\n",
      "Int64Index: 2184775 entries, 46 to 3148827\n",
      "Columns: 354 entries, device_width to device_maker_wor(l)d\n",
      "dtypes: category(2), int64(2), uint8(350)\n",
      "memory usage: 783.4 MB\n"
     ]
    }
   ],
   "source": [
    "new_df.info()"
   ]
  },
  {
   "cell_type": "code",
   "execution_count": 52,
   "metadata": {},
   "outputs": [
    {
     "data": {
      "text/plain": [
       "46    0\n",
       "47    0\n",
       "48    1\n",
       "49    0\n",
       "50    0\n",
       "Name: click, dtype: int64"
      ]
     },
     "execution_count": 52,
     "metadata": {},
     "output_type": "execute_result"
    }
   ],
   "source": [
    "new_df['click'].head()"
   ]
  },
  {
   "cell_type": "code",
   "execution_count": 53,
   "metadata": {},
   "outputs": [],
   "source": [
    "X=new_df.drop(['click'], axis=1)\n",
    "y=new_df['click']"
   ]
  },
  {
   "cell_type": "code",
   "execution_count": 54,
   "metadata": {},
   "outputs": [],
   "source": [
    "X_train, X_test, y_train, y_test = train_test_split(X, y, test_size=0.2)"
   ]
  },
  {
   "cell_type": "code",
   "execution_count": 55,
   "metadata": {},
   "outputs": [],
   "source": [
    "from sklearn import preprocessing"
   ]
  },
  {
   "cell_type": "code",
   "execution_count": 56,
   "metadata": {},
   "outputs": [],
   "source": [
    "#X= preprocessing.StandardScaler().fit(X).transform(X)"
   ]
  },
  {
   "cell_type": "code",
   "execution_count": 57,
   "metadata": {},
   "outputs": [],
   "source": [
    "model= KNeighborsClassifier()"
   ]
  },
  {
   "cell_type": "code",
   "execution_count": null,
   "metadata": {},
   "outputs": [],
   "source": [
    "parameters = {'n_neighbors':np.arange(1,30)}\n",
    "grid=GridSearchCV(KNeighborsClassifier(),parameters,cv=5)\n",
    "grid.fit(X_train, y_train)"
   ]
  },
  {
   "cell_type": "code",
   "execution_count": null,
   "metadata": {},
   "outputs": [],
   "source": [
    "grid.best_params_"
   ]
  },
  {
   "cell_type": "code",
   "execution_count": null,
   "metadata": {},
   "outputs": [],
   "source": [
    "best_estimator_knn=grid.best_estimator_"
   ]
  },
  {
   "cell_type": "code",
   "execution_count": null,
   "metadata": {},
   "outputs": [],
   "source": [
    "best_estimator_knn.score(X_test, y_test)"
   ]
  },
  {
   "cell_type": "code",
   "execution_count": null,
   "metadata": {},
   "outputs": [],
   "source": [
    "y_pred_knn=best_estimator_knn.predict(X_test)"
   ]
  },
  {
   "cell_type": "code",
   "execution_count": null,
   "metadata": {},
   "outputs": [],
   "source": [
    "from sklearn.metrics import classification_report, confusion_matrix\n",
    "print(confusion_matrix(y_test, y_pred_knn))\n",
    "print(classification_report(y_test, y_pred_knn))"
   ]
  },
  {
   "cell_type": "code",
   "execution_count": null,
   "metadata": {},
   "outputs": [],
   "source": []
  }
 ],
 "metadata": {
  "kernelspec": {
   "display_name": "Python 3",
   "language": "python",
   "name": "python3"
  },
  "language_info": {
   "codemirror_mode": {
    "name": "ipython",
    "version": 3
   },
   "file_extension": ".py",
   "mimetype": "text/x-python",
   "name": "python",
   "nbconvert_exporter": "python",
   "pygments_lexer": "ipython3",
   "version": "3.7.4"
  }
 },
 "nbformat": 4,
 "nbformat_minor": 2
}
